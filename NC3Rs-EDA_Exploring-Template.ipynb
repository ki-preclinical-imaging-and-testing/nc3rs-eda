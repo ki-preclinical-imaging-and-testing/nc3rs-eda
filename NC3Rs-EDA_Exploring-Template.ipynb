{
 "cells": [
  {
   "cell_type": "markdown",
   "id": "9541cb0c",
   "metadata": {},
   "source": [
    "# Exploring NC3Rs Experiment Design Assistant File Format from a Template\n",
    "\n",
    "Here I go through the details off an NC3Rs Experiment Design Assistant `.eda` file. This file is the exported `.eda` file from a template. \n",
    "\n",
    "This is their website:  https://eda.nc3rs.org.uk/"
   ]
  },
  {
   "cell_type": "code",
   "execution_count": 1,
   "id": "5be49ba3",
   "metadata": {},
   "outputs": [
    {
     "name": "stdout",
     "output_type": "stream",
     "text": [
      "Model JSON Contains primary keys:\n",
      "\n",
      "  <class 'str'>   resourceId \n",
      "  <class 'dict'>  properties \n",
      "  <class 'dict'>  propertyTypes \n",
      "  <class 'dict'>  stencil \n",
      "  <class 'list'>  childShapes \n",
      "  <class 'dict'>  bounds \n",
      "  <class 'dict'>  stencilset \n",
      "  <class 'list'>  ssextensions \n"
     ]
    }
   ],
   "source": [
    "import json\n",
    "\n",
    "f = open('model', 'r')\n",
    "j = json.load(f)\n",
    "\n",
    "print(\"Model JSON Contains primary keys:\\n\")\n",
    "for _k in j.keys():\n",
    "    print(f\"  {str(type(j[_k])):15s} {_k} \")"
   ]
  },
  {
   "cell_type": "markdown",
   "id": "c8d85243",
   "metadata": {},
   "source": [
    "Now, I want to unpack each of these.First, I can see that many of these are dictionaries, but they are actually quite small with the exception of `childShapes`.\n",
    "\n",
    "\n",
    "| Name | Description | Example |\n",
    "| --- | --- | --- |\n",
    "| resourceId | UID | 'oryx-canvas123' |\n",
    "| properties | Properties | {'title': \"\"} |\n",
    "| propertyTypes | Property data types | {'title': 'string'} |\n",
    "| stencil\t\t| Label | {'id': 'Diagram'} |\n",
    "| childShapes\t| Details of diagram contents | [more below] |\n",
    "| bounds\t\t| Diagram canvas bounding box | {'lowerRight': {'x': 1589, 'y': 1050 }, 'upperLeft': {'x': 0, 'y': 0 }} |\n",
    "| stencilset | Link to a JSON file and namespace | {'url': '/eda/assets/eda/eda-750239aadc9892bd73639e9a7c59cffb.json', 'namespace': 'eda#'} |\n",
    "| ssextensions | Empty list in the template I downloaded | ? |\n",
    "\n",
    "\n",
    "Now that this level is mostly characterized, I'll dig into `j['childShapes']`. \n",
    "\n",
    "This is where  the bulk of EDA node and edge information, including labels, properties, locations, etc, is stored."
   ]
  },
  {
   "cell_type": "code",
   "execution_count": 2,
   "id": "94b29d0a",
   "metadata": {},
   "outputs": [
    {
     "name": "stdout",
     "output_type": "stream",
     "text": [
      "Unique childShape 1:\n",
      " - resourceId\n",
      " - properties\n",
      " - propertyTypes\n",
      " - stencil\n",
      " - childShapes\n",
      " - outgoing\n",
      " - incoming\n",
      " - bounds\n",
      " - dockers\n",
      "\n",
      "Unique childShape 2:\n",
      " - resourceId\n",
      " - properties\n",
      " - propertyTypes\n",
      " - stencil\n",
      " - childShapes\n",
      " - outgoing\n",
      " - incoming\n",
      " - bounds\n",
      " - dockers\n",
      " - target\n",
      "\n"
     ]
    }
   ],
   "source": [
    "dl = []\n",
    "for _i in j['childShapes']:\n",
    "    _l = list(_i.keys())\n",
    "    new = False\n",
    "    if len(dl) == 0:\n",
    "        new = True\n",
    "    else:\n",
    "        found = False\n",
    "        for _d in dl:\n",
    "            if _l == _d:\n",
    "                found = True\n",
    "                break\n",
    "        if not found:\n",
    "            new = True\n",
    "    if new:\n",
    "        dl.append(_l)\n",
    "\n",
    "count = 1\n",
    "for _dl in dl:\n",
    "    print(f\"Unique childShape {count}:\")\n",
    "    for _i in _dl:\n",
    "        print(f\" - {_i}\")\n",
    "    count += 1\n",
    "    print()"
   ]
  },
  {
   "cell_type": "markdown",
   "id": "2f1451d6",
   "metadata": {},
   "source": [
    "Since there are only two unique childShapes, we can also quickly show the only unique key between the two is `target`, indicating what is likely the `childShape` associated with an edge."
   ]
  },
  {
   "cell_type": "code",
   "execution_count": 3,
   "id": "3e8c99a1",
   "metadata": {},
   "outputs": [
    {
     "name": "stdout",
     "output_type": "stream",
     "text": [
      "Difference between two childShapes:\n",
      "  - target\n"
     ]
    }
   ],
   "source": [
    "def diff(l1, l2):\n",
    "    l1_unique = list(set(l1))\n",
    "    l2_unique = list(set(l2))\n",
    "    all_unique = list(set(l1+l2))\n",
    "    list_diff = [i for i in all_unique \n",
    "              if i not in l1_unique \n",
    "              or i not in l2_unique]\n",
    "    return list_diff\n",
    "\n",
    "print(\"Difference between two childShapes:\")\n",
    "for _d in diff(dl[0],dl[1]):\n",
    "    print(f\"  - {_d}\")"
   ]
  },
  {
   "cell_type": "markdown",
   "id": "09f57f3b",
   "metadata": {},
   "source": [
    "I'm guessing these represent nodes and edges as follows:\n",
    "\n",
    "    Node <class 'dict'> \n",
    "         dict_keys([\n",
    "            'resourceId', \n",
    "            'properties', \n",
    "            'propertyTypes', \n",
    "            'stencil', \n",
    "            'childShapes', \n",
    "            'outgoing', \n",
    "            'incoming', \n",
    "            'bounds', \n",
    "            'dockers']) \n",
    "\n",
    "    Edge <class 'dict'> \n",
    "         dict_keys([\n",
    "            'resourceId', \n",
    "            'properties', \n",
    "            'propertyTypes', \n",
    "            'stencil', \n",
    "            'childShapes', \n",
    "            'outgoing', \n",
    "            'incoming', \n",
    "            'bounds', \n",
    "            'dockers', \n",
    "            'target']) \n",
    "\n",
    "This is helpful because now I can see how to parse each of these.\n",
    "\n",
    "Again, the only difference in keys here is the `target` key. \n",
    "\n",
    "I explored this particular experimental diagram in `iPython`, and I found that `target` contains single resourceId value, and that value appears to correspond with the opposite, apparently `Node` entries. \n",
    "\n",
    "Here are the resulting notes:\n",
    "\n",
    "|Name | Description | Example |  \n",
    "|---|---|---| \n",
    "| resourceId  | UID for each node or edge | | \n",
    "| properties  | Properties for each node or edge | | \n",
    "| propertyTypes   | Key-Value pairs for data type of each property|| \n",
    "| stencil   | Label for each node or edge|| \n",
    "| childShapes | Recursive, next level down with unique resourceId's, mostly empty, but captures another layer of notes|| \n",
    "| outgoing  | List of Key-Value pairs for resourceId's, presumably outgoing edges|| \n",
    "| incoming  | List of Key-Value pairs for resourceId's, presumably incoming edges|| \n",
    "| bounds    | Dictionary of coordinates for bounding box (?) | {'lowerRight': {'x': 270, 'y': 575}, 'upperLeft': {'x': 150, 'y': 525}} | \n",
    "| dockers   | Pairs of geometric coordinate pairs for edge endpoints (?) | [{'x': 73, 'y': 35}, {'x': -0.9, 'y': 8.2}] | \n",
    "| target    | Single-entry dictionary of resourceId for an edge?| |"
   ]
  },
  {
   "cell_type": "markdown",
   "id": "ac4e7183",
   "metadata": {},
   "source": [
    "Based on this information, we should be able to read the `.eda` file and gather relevant information to a Neo4j schema. In order to do this, we need to know what is required to fully represent this information in Neo4j. \n",
    "\n",
    "I am also curious how to translate the coordinates accurately so we might transfer to Arrows.app and then into a Cypher query. For now, Arrows.app is probably the best way to visually verify we're capturing everything correctly. Bloom or Neo4j Browser will be the next step after that. For now, I will focus on the basic graph requirements:\n",
    "\n",
    "| Neo4j | EDA | EDA `target` | \n",
    "|---|---|---|\n",
    "| UID | resourceId | N/A |\n",
    "| Label | stencil, id | False |\n",
    "| Label Properties | properties | False |\n",
    "| Label Properties | propertyTypes | False |\n",
    "| Relationship | stencil, id | True |\n",
    "| Relationship properties | properties | True |\n",
    "| Relationship properties | propertyTypes | True |\n"
   ]
  },
  {
   "cell_type": "code",
   "execution_count": 21,
   "id": "0f06226d",
   "metadata": {},
   "outputs": [
    {
     "name": "stdout",
     "output_type": "stream",
     "text": [
      "resourceId: \n",
      "\toryx_7D22B9C7-F193-40BA-B31A-6D9F1A423D93\n",
      "outgoing: \n",
      "\t[{'resourceId': 'oryx_6B6458F7-0B89-4EC6-84DC-F398B6DF3716'}]\n",
      "incoming: \n",
      "\t[{'resourceId': 'oryx_6894C16E-1267-478F-B621-B6CA322390F9'}]\n"
     ]
    }
   ],
   "source": [
    "for _opt in ['resourceId','outgoing','incoming']:\n",
    "    print(f\"{_opt}: \\n\\t{j['childShapes'][1][_opt]}\")"
   ]
  },
  {
   "cell_type": "markdown",
   "id": "88515d84",
   "metadata": {},
   "source": [
    "If I pick the lone `j['childShapes'][1]['outgoing']`, I find that it involves an edge with name `then` as you can see in the next cell..."
   ]
  },
  {
   "cell_type": "code",
   "execution_count": 12,
   "id": "5274ada6",
   "metadata": {},
   "outputs": [
    {
     "name": "stdout",
     "output_type": "stream",
     "text": [
      "{'name': 'then'}\n"
     ]
    }
   ],
   "source": [
    "# ogID = 'oryx_6B6458F7-0B89-4EC6-84DC-F398B6DF3716'\n",
    "ogID = j['childShapes'][1]['outgoing'][0]['resourceId']\n",
    "for _j in j['childShapes']:\n",
    "    if _j['resourceId'] == ogID:\n",
    "        print(_j['properties'])"
   ]
  },
  {
   "cell_type": "markdown",
   "id": "ec066cb2",
   "metadata": {},
   "source": [
    "Likewise, if I choose an `j['childShapes'][1]['incoming']`, I find an edge again, suggesting that these are typically nodes."
   ]
  },
  {
   "cell_type": "code",
   "execution_count": 14,
   "id": "40c3bce0",
   "metadata": {},
   "outputs": [
    {
     "name": "stdout",
     "output_type": "stream",
     "text": [
      "{'name': 'subjected to'}\n"
     ]
    }
   ],
   "source": [
    "ogID = j['childShapes'][1]['incoming'][0]['resourceId']\n",
    "for _j in j['childShapes']:\n",
    "    if _j['resourceId'] == ogID:\n",
    "        print(_j['properties'])"
   ]
  },
  {
   "cell_type": "code",
   "execution_count": 24,
   "id": "0e39c636",
   "metadata": {},
   "outputs": [],
   "source": [
    "nodes = []\n",
    "edges = []\n",
    "for _j in j['childShapes']:\n",
    "    if 'target' in _j.keys():\n",
    "        edges.append(_j)\n",
    "    else:\n",
    "        nodes.append(_j)"
   ]
  },
  {
   "cell_type": "code",
   "execution_count": 31,
   "id": "dfa99dcc",
   "metadata": {},
   "outputs": [
    {
     "data": {
      "text/plain": [
       "23"
      ]
     },
     "execution_count": 31,
     "metadata": {},
     "output_type": "execute_result"
    }
   ],
   "source": [
    "len(nodes)"
   ]
  },
  {
   "cell_type": "markdown",
   "id": "7bbcbfe2",
   "metadata": {},
   "source": [
    "Now that I have all the nodes, I want to check on these seemingly extraneous `childShapes`. They are all named the same thing: `Variable_category`. I wonder what this is and why it is not treated as a normal node, relationship, or property."
   ]
  },
  {
   "cell_type": "code",
   "execution_count": 37,
   "id": "7880352b",
   "metadata": {},
   "outputs": [
    {
     "name": "stdout",
     "output_type": "stream",
     "text": [
      "{'id': 'Variable_category'}\n",
      "\n",
      "{'id': 'Variable_category'}\n",
      "\n",
      "{'id': 'Variable_category'}\n",
      "\n"
     ]
    }
   ],
   "source": [
    "for _n in nodes:\n",
    "    if len(_n['childShapes']) > 0:\n",
    "        for _i in _n['childShapes']:\n",
    "            print(_i['stencil'])\n",
    "        print()"
   ]
  },
  {
   "cell_type": "markdown",
   "id": "f6f10950",
   "metadata": {},
   "source": [
    "For this template, at least, no edges contain `childShapes` (see cell below). This makes sense generally, so I'm going to assume that this is generally true, but it would be great to confirm!"
   ]
  },
  {
   "cell_type": "code",
   "execution_count": 39,
   "id": "a48ecdcd",
   "metadata": {},
   "outputs": [],
   "source": [
    "for _e in edges:\n",
    "    if len(_e['childShapes']) > 0:\n",
    "        for _i in _e['childShapes']:\n",
    "            print(_i['stencil'])\n",
    "        print()"
   ]
  },
  {
   "cell_type": "code",
   "execution_count": 71,
   "id": "c09a9a18",
   "metadata": {},
   "outputs": [],
   "source": [
    "class Node():\n",
    "    def __init__(self, node):\n",
    "        self.uid = node['resourceId']\n",
    "        self.prop = node['properties']\n",
    "        self.proptype = node['propertyTypes']\n",
    "        self.label = node['stencil']['id']\n",
    "        self.edge_out = node['outgoing']\n",
    "        self.edge_in = node['incoming']\n",
    "        self.bbox = node['bounds']\n",
    "        self.dock = node['dockers']\n",
    "        \n",
    "        \n",
    "class Edge():\n",
    "    def __init__(self, edge):\n",
    "        self.uid = edge['resourceId']\n",
    "        self.prop = edge['properties']\n",
    "        self.proptype = edge['propertyTypes']\n",
    "        self.label = edge['stencil']['id']\n",
    "        self.edge_out = edge['outgoing']\n",
    "        self.edge_in = edge['incoming']\n",
    "        self.bbox = edge['bounds']\n",
    "        self.dock = edge['dockers']\n",
    "        self.target = edge['target']['resourceId']"
   ]
  },
  {
   "cell_type": "code",
   "execution_count": 72,
   "id": "292874e1",
   "metadata": {},
   "outputs": [],
   "source": [
    "n = Node(nodes[1])"
   ]
  },
  {
   "cell_type": "code",
   "execution_count": 73,
   "id": "321ef87c",
   "metadata": {},
   "outputs": [],
   "source": [
    "e = Edge(edges[1])"
   ]
  },
  {
   "cell_type": "code",
   "execution_count": 74,
   "id": "b93ff318",
   "metadata": {},
   "outputs": [
    {
     "data": {
      "text/plain": [
       "'oryx_EC08DE2B-AB9A-4D0D-B9C6-4C1325D08C76'"
      ]
     },
     "execution_count": 74,
     "metadata": {},
     "output_type": "execute_result"
    }
   ],
   "source": [
    "e.target"
   ]
  },
  {
   "cell_type": "markdown",
   "id": "30308323",
   "metadata": {},
   "source": [
    "Now that I have all of these, I should be able to start connecting the dots, so to speak."
   ]
  },
  {
   "cell_type": "code",
   "execution_count": null,
   "id": "ea093ff9",
   "metadata": {},
   "outputs": [],
   "source": []
  }
 ],
 "metadata": {
  "kernelspec": {
   "display_name": "Python 3 (ipykernel)",
   "language": "python",
   "name": "python3"
  },
  "language_info": {
   "codemirror_mode": {
    "name": "ipython",
    "version": 3
   },
   "file_extension": ".py",
   "mimetype": "text/x-python",
   "name": "python",
   "nbconvert_exporter": "python",
   "pygments_lexer": "ipython3",
   "version": "3.9.12"
  }
 },
 "nbformat": 4,
 "nbformat_minor": 5
}
