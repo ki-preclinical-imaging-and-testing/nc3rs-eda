{
 "cells": [
  {
   "cell_type": "markdown",
   "id": "9541cb0c",
   "metadata": {},
   "source": [
    "# Exploring NC3Rs Experiment Design Assistant File Format from a Template\n",
    "\n",
    "Here I go through the details off an NC3Rs Experiment Design Assistant `.eda` file. This file is the exported `.eda` file from a template. \n",
    "\n",
    "This is their website:  https://eda.nc3rs.org.uk/"
   ]
  },
  {
   "cell_type": "code",
   "execution_count": 1,
   "id": "5be49ba3",
   "metadata": {},
   "outputs": [
    {
     "name": "stdout",
     "output_type": "stream",
     "text": [
      "Model JSON Contains primary keys:\n",
      "\n",
      "  <class 'str'>   resourceId \n",
      "  <class 'dict'>  properties \n",
      "  <class 'dict'>  propertyTypes \n",
      "  <class 'dict'>  stencil \n",
      "  <class 'list'>  childShapes \n",
      "  <class 'dict'>  bounds \n",
      "  <class 'dict'>  stencilset \n",
      "  <class 'list'>  ssextensions \n"
     ]
    }
   ],
   "source": [
    "import json\n",
    "\n",
    "f = open('model', 'r')\n",
    "j = json.load(f)\n",
    "\n",
    "print(\"Model JSON Contains primary keys:\\n\")\n",
    "for _k in j.keys():\n",
    "    print(f\"  {str(type(j[_k])):15s} {_k} \")"
   ]
  },
  {
   "cell_type": "markdown",
   "id": "c8d85243",
   "metadata": {},
   "source": [
    "Now, I want to unpack each of these.First, I can see that many of these are dictionaries, but they are actually quite small with the exception of `childShapes`.\n",
    "\n",
    "\n",
    "| Name | Description | Example |\n",
    "| --- | --- | --- |\n",
    "| resourceId | UID | 'oryx-canvas123' |\n",
    "| properties | Properties | {'title': \"\"} |\n",
    "| propertyTypes | Property data types | {'title': 'string'} |\n",
    "| stencil\t\t| Label | {'id': 'Diagram'} |\n",
    "| childShapes\t| Details of diagram contents | [more below] |\n",
    "| bounds\t\t| Diagram canvas bounding box | {'lowerRight': {'x': 1589, 'y': 1050 }, 'upperLeft': {'x': 0, 'y': 0 }} |\n",
    "| stencilset | Link to a JSON file and namespace | {'url': '/eda/assets/eda/eda-750239aadc9892bd73639e9a7c59cffb.json', 'namespace': 'eda#'} |\n",
    "| ssextensions | Empty list in the template I downloaded | ? |\n",
    "\n",
    "\n",
    "Now that this level is mostly characterized, I'll dig into `j['childShapes']`. \n",
    "\n",
    "This is where  the bulk of EDA node and edge information, including labels, properties, locations, etc, is stored."
   ]
  },
  {
   "cell_type": "code",
   "execution_count": 2,
   "id": "94b29d0a",
   "metadata": {},
   "outputs": [
    {
     "name": "stdout",
     "output_type": "stream",
     "text": [
      "Unique childShape 1:\n",
      " - resourceId\n",
      " - properties\n",
      " - propertyTypes\n",
      " - stencil\n",
      " - childShapes\n",
      " - outgoing\n",
      " - incoming\n",
      " - bounds\n",
      " - dockers\n",
      "\n",
      "Unique childShape 2:\n",
      " - resourceId\n",
      " - properties\n",
      " - propertyTypes\n",
      " - stencil\n",
      " - childShapes\n",
      " - outgoing\n",
      " - incoming\n",
      " - bounds\n",
      " - dockers\n",
      " - target\n",
      "\n"
     ]
    }
   ],
   "source": [
    "dl = []\n",
    "for _i in j['childShapes']:\n",
    "    _l = list(_i.keys())\n",
    "    new = False\n",
    "    if len(dl) == 0:\n",
    "        new = True\n",
    "    else:\n",
    "        found = False\n",
    "        for _d in dl:\n",
    "            if _l == _d:\n",
    "                found = True\n",
    "                break\n",
    "        if not found:\n",
    "            new = True\n",
    "    if new:\n",
    "        dl.append(_l)\n",
    "\n",
    "count = 1\n",
    "for _dl in dl:\n",
    "    print(f\"Unique childShape {count}:\")\n",
    "    for _i in _dl:\n",
    "        print(f\" - {_i}\")\n",
    "    count += 1\n",
    "    print()"
   ]
  },
  {
   "cell_type": "markdown",
   "id": "2f1451d6",
   "metadata": {},
   "source": [
    "Since there are only two unique childShapes, we can also quickly show the only unique key between the two is `target`, indicating what is likely the `childShape` associated with an edge."
   ]
  },
  {
   "cell_type": "code",
   "execution_count": 3,
   "id": "3e8c99a1",
   "metadata": {},
   "outputs": [
    {
     "name": "stdout",
     "output_type": "stream",
     "text": [
      "Difference between two childShapes:\n",
      "  - target\n"
     ]
    }
   ],
   "source": [
    "def diff(l1, l2):\n",
    "    l1_unique = list(set(l1))\n",
    "    l2_unique = list(set(l2))\n",
    "    all_unique = list(set(l1+l2))\n",
    "    list_diff = [i for i in all_unique \n",
    "              if i not in l1_unique \n",
    "              or i not in l2_unique]\n",
    "    return list_diff\n",
    "\n",
    "print(\"Difference between two childShapes:\")\n",
    "for _d in diff(dl[0],dl[1]):\n",
    "    print(f\"  - {_d}\")"
   ]
  },
  {
   "cell_type": "markdown",
   "id": "09f57f3b",
   "metadata": {},
   "source": [
    "I'm guessing these represent nodes and edges as follows:\n",
    "\n",
    "    Node <class 'dict'> \n",
    "         dict_keys([\n",
    "            'resourceId', \n",
    "            'properties', \n",
    "            'propertyTypes', \n",
    "            'stencil', \n",
    "            'childShapes', \n",
    "            'outgoing', \n",
    "            'incoming', \n",
    "            'bounds', \n",
    "            'dockers']) \n",
    "\n",
    "    Edge <class 'dict'> \n",
    "         dict_keys([\n",
    "            'resourceId', \n",
    "            'properties', \n",
    "            'propertyTypes', \n",
    "            'stencil', \n",
    "            'childShapes', \n",
    "            'outgoing', \n",
    "            'incoming', \n",
    "            'bounds', \n",
    "            'dockers', \n",
    "            'target']) \n",
    "\n",
    "This is helpful because now I can see how to parse each of these.\n",
    "\n",
    "Again, the only difference in keys here is the `target` key. \n",
    "\n",
    "I explored this particular experimental diagram in `iPython`, and I found that `target` contains single resourceId value, and that value appears to correspond with the opposite, apparently `Node` entries. \n",
    "\n",
    "Here are the resulting notes:\n",
    "\n",
    "|Name | Description | Example |  \n",
    "|---|---|---| \n",
    "| resourceId  | UID for each node or edge | | \n",
    "| properties  | Properties for each node or edge | | \n",
    "| propertyTypes   | Key-Value pairs for data type of each property|| \n",
    "| stencil   | Label for each node or edge|| \n",
    "| childShapes | Recursive, next level down with unique resourceId's, mostly empty, but captures another layer of notes|| \n",
    "| outgoing  | List of Key-Value pairs for resourceId's, presumably outgoing edges|| \n",
    "| incoming  | List of Key-Value pairs for resourceId's, presumably incoming edges|| \n",
    "| bounds    | Dictionary of coordinates for bounding box (?) | {'lowerRight': {'x': 270, 'y': 575}, 'upperLeft': {'x': 150, 'y': 525}} | \n",
    "| dockers   | Pairs of geometric coordinate pairs for edge endpoints (?) | [{'x': 73, 'y': 35}, {'x': -0.9, 'y': 8.2}] | \n",
    "| target    | Single-entry dictionary of resourceId for an edge| |"
   ]
  },
  {
   "cell_type": "markdown",
   "id": "ac4e7183",
   "metadata": {},
   "source": [
    "Based on this information, we should be able to read the `.eda` file and gather relevant information to a Neo4j schema. In order to do this, we need to know what is required to fully represent this information in Neo4j. \n",
    "\n",
    "I am also curious how to translate the coordinates accurately so we might transfer to Arrows.app and then into a Cypher query. For now, Arrows.app is probably the best way to visually verify we're capturing everything correctly. Bloom or Neo4j Browser will be the next step after that. For now, I will focus on the basic graph requirements:\n",
    "\n",
    "| Neo4j | EDA | EDA `target` | \n",
    "|---|---|---|\n",
    "| UID | resourceId | N/A |\n",
    "| Node Label | stencil, id | False |\n",
    "| Node Properties | properties | False |\n",
    "| Node Properties | propertyTypes | False |\n",
    "| Relationship Type | stencil, id | True |\n",
    "| Relationship Properties | properties | True |\n",
    "| Relationship Properties | propertyTypes | True |\n"
   ]
  },
  {
   "cell_type": "code",
   "execution_count": 4,
   "id": "0f06226d",
   "metadata": {},
   "outputs": [
    {
     "name": "stdout",
     "output_type": "stream",
     "text": [
      "resourceId: \n",
      "\toryx_7D22B9C7-F193-40BA-B31A-6D9F1A423D93\n",
      "outgoing: \n",
      "\t[{'resourceId': 'oryx_6B6458F7-0B89-4EC6-84DC-F398B6DF3716'}]\n",
      "incoming: \n",
      "\t[{'resourceId': 'oryx_6894C16E-1267-478F-B621-B6CA322390F9'}]\n"
     ]
    }
   ],
   "source": [
    "for _opt in ['resourceId','outgoing','incoming']:\n",
    "    print(f\"{_opt}: \\n\\t{j['childShapes'][1][_opt]}\")"
   ]
  },
  {
   "cell_type": "markdown",
   "id": "88515d84",
   "metadata": {},
   "source": [
    "If I pick the lone `j['childShapes'][1]['outgoing']`, I find that it involves an edge with name `then` as you can see in the next cell..."
   ]
  },
  {
   "cell_type": "code",
   "execution_count": 5,
   "id": "5274ada6",
   "metadata": {},
   "outputs": [
    {
     "name": "stdout",
     "output_type": "stream",
     "text": [
      "{'name': 'then'}\n"
     ]
    }
   ],
   "source": [
    "# ogID = 'oryx_6B6458F7-0B89-4EC6-84DC-F398B6DF3716'\n",
    "ogID = j['childShapes'][1]['outgoing'][0]['resourceId']\n",
    "for _j in j['childShapes']:\n",
    "    if _j['resourceId'] == ogID:\n",
    "        print(_j['properties'])"
   ]
  },
  {
   "cell_type": "markdown",
   "id": "ec066cb2",
   "metadata": {},
   "source": [
    "Likewise, if I choose an `j['childShapes'][1]['incoming']`, I find an edge again, suggesting that these are typically nodes."
   ]
  },
  {
   "cell_type": "code",
   "execution_count": 6,
   "id": "40c3bce0",
   "metadata": {},
   "outputs": [
    {
     "name": "stdout",
     "output_type": "stream",
     "text": [
      "{'name': 'subjected to'}\n"
     ]
    }
   ],
   "source": [
    "ogID = j['childShapes'][1]['incoming'][0]['resourceId']\n",
    "for _j in j['childShapes']:\n",
    "    if _j['resourceId'] == ogID:\n",
    "        print(_j['properties'])"
   ]
  },
  {
   "cell_type": "code",
   "execution_count": 7,
   "id": "0e39c636",
   "metadata": {},
   "outputs": [],
   "source": [
    "nodes = []\n",
    "edges = []\n",
    "for _j in j['childShapes']:\n",
    "    if 'target' in _j.keys():\n",
    "        edges.append(_j)\n",
    "    else:\n",
    "        nodes.append(_j)"
   ]
  },
  {
   "cell_type": "code",
   "execution_count": 8,
   "id": "dfa99dcc",
   "metadata": {},
   "outputs": [
    {
     "data": {
      "text/plain": [
       "23"
      ]
     },
     "execution_count": 8,
     "metadata": {},
     "output_type": "execute_result"
    }
   ],
   "source": [
    "len(nodes)"
   ]
  },
  {
   "cell_type": "markdown",
   "id": "7bbcbfe2",
   "metadata": {},
   "source": [
    "Now that I have all the nodes, I want to check on these seemingly extraneous `childShapes`. They are all named the same thing: `Variable_category`. I wonder what this is and why it is not treated as a normal node, relationship, or property."
   ]
  },
  {
   "cell_type": "code",
   "execution_count": 9,
   "id": "7880352b",
   "metadata": {},
   "outputs": [
    {
     "name": "stdout",
     "output_type": "stream",
     "text": [
      "{'id': 'Variable_category'}\n",
      "\n",
      "{'id': 'Variable_category'}\n",
      "\n",
      "{'id': 'Variable_category'}\n",
      "\n"
     ]
    }
   ],
   "source": [
    "for _n in nodes:\n",
    "    if len(_n['childShapes']) > 0:\n",
    "        for _i in _n['childShapes']:\n",
    "            print(_i['stencil'])\n",
    "        print()"
   ]
  },
  {
   "cell_type": "markdown",
   "id": "f6f10950",
   "metadata": {},
   "source": [
    "For this template, at least, no edges contain `childShapes` (see cell below). This makes sense generally, so I'm going to assume that this is generally true, but it would be great to confirm!"
   ]
  },
  {
   "cell_type": "code",
   "execution_count": 10,
   "id": "a48ecdcd",
   "metadata": {},
   "outputs": [],
   "source": [
    "for _e in edges:\n",
    "    if len(_e['childShapes']) > 0:\n",
    "        for _i in _e['childShapes']:\n",
    "            print(_i['stencil'])\n",
    "        print()"
   ]
  },
  {
   "cell_type": "code",
   "execution_count": 11,
   "id": "c09a9a18",
   "metadata": {},
   "outputs": [],
   "source": [
    "class Node():\n",
    "    def __init__(self, node):\n",
    "        self.uid = node['resourceId']\n",
    "        self.prop = node['properties']\n",
    "        self.proptype = node['propertyTypes']\n",
    "        self.label = node['stencil']['id']\n",
    "        self.edge_out = node['outgoing']\n",
    "        self.edge_in = node['incoming']\n",
    "        self.bbox = node['bounds']\n",
    "        self.dock = node['dockers']\n",
    "        \n",
    "        \n",
    "class Edge():\n",
    "    def __init__(self, edge):\n",
    "        self.uid = edge['resourceId']\n",
    "        self.prop = edge['properties']\n",
    "        self.proptype = edge['propertyTypes']\n",
    "        self.type = edge['stencil']['id']\n",
    "        self.edge_out = edge['outgoing']\n",
    "        self.edge_in = edge['incoming']\n",
    "        self.bbox = edge['bounds']\n",
    "        self.dock = edge['dockers']\n",
    "        self.target = edge['target']['resourceId']\n",
    "        \n",
    "        \n",
    "class Graph():\n",
    "    \n",
    "    def __init__(self,nodes,edges):\n",
    "        self.__n = []\n",
    "        for _n in nodes:\n",
    "            self.__n.append(Node(_n))\n",
    "        self.__e = []\n",
    "        for _e in edges:\n",
    "            self.__e.append(Edge(_e))\n",
    "\n",
    "    def node(self,i):\n",
    "        return self.__n[i]\n",
    "\n",
    "    def edge(self,i):\n",
    "        return self.__e[i]\n",
    "\n",
    "    def nodes(self):\n",
    "        return self.__n\n",
    "    \n",
    "    def edges(self):\n",
    "        return self.__e"
   ]
  },
  {
   "cell_type": "code",
   "execution_count": 12,
   "id": "292874e1",
   "metadata": {},
   "outputs": [
    {
     "data": {
      "text/plain": [
       "'Pharmacological_intervention'"
      ]
     },
     "execution_count": 12,
     "metadata": {},
     "output_type": "execute_result"
    }
   ],
   "source": [
    "g = Graph(nodes,edges)\n",
    "\n",
    "n = g.node(1)\n",
    "\n",
    "n.label"
   ]
  },
  {
   "cell_type": "code",
   "execution_count": 13,
   "id": "321ef87c",
   "metadata": {},
   "outputs": [
    {
     "data": {
      "text/plain": [
       "'oryx_EC08DE2B-AB9A-4D0D-B9C6-4C1325D08C76'"
      ]
     },
     "execution_count": 13,
     "metadata": {},
     "output_type": "execute_result"
    }
   ],
   "source": [
    "e = Edge(edges[1])\n",
    "\n",
    "e.target"
   ]
  },
  {
   "cell_type": "markdown",
   "id": "30308323",
   "metadata": {},
   "source": [
    "Now that I have all of these, I should be able to start connecting the dots, so to speak."
   ]
  },
  {
   "cell_type": "code",
   "execution_count": 14,
   "id": "4fe99448",
   "metadata": {},
   "outputs": [
    {
     "data": {
      "text/plain": [
       "[{'resourceId': 'oryx_7D22B9C7-F193-40BA-B31A-6D9F1A423D93'}]"
      ]
     },
     "execution_count": 14,
     "metadata": {},
     "output_type": "execute_result"
    }
   ],
   "source": [
    "_e = g.edge(0)\n",
    "\n",
    "e_tmp = _e\n",
    "\n",
    "e_tmp.edge_in"
   ]
  },
  {
   "cell_type": "code",
   "execution_count": 15,
   "id": "e77d948c",
   "metadata": {},
   "outputs": [
    {
     "data": {
      "text/plain": [
       "[{'resourceId': 'oryx_EC08DE2B-AB9A-4D0D-B9C6-4C1325D08C76'}]"
      ]
     },
     "execution_count": 15,
     "metadata": {},
     "output_type": "execute_result"
    }
   ],
   "source": [
    "e_tmp.edge_out"
   ]
  },
  {
   "cell_type": "code",
   "execution_count": 16,
   "id": "d94516bb",
   "metadata": {},
   "outputs": [],
   "source": [
    "n_in = e_tmp.edge_in[0]['resourceId']\n",
    "n_out = e_tmp.edge_out[0]['resourceId']"
   ]
  },
  {
   "cell_type": "code",
   "execution_count": 17,
   "id": "b934c21e",
   "metadata": {},
   "outputs": [
    {
     "name": "stdout",
     "output_type": "stream",
     "text": [
      " In:  1\n",
      "Out:  1\n",
      " In:  1\n",
      "Out:  1\n",
      " In:  1\n",
      "Out:  1\n",
      " In:  1\n",
      "Out:  1\n",
      " In:  1\n",
      "Out:  1\n",
      " In:  1\n",
      "Out:  1\n",
      " In:  1\n",
      "Out:  1\n",
      " In:  1\n",
      "Out:  1\n",
      " In:  1\n",
      "Out:  1\n",
      " In:  1\n",
      "Out:  1\n",
      " In:  1\n",
      "Out:  1\n",
      " In:  1\n",
      "Out:  1\n",
      " In:  1\n",
      "Out:  1\n",
      " In:  1\n",
      "Out:  1\n",
      " In:  1\n",
      "Out:  1\n",
      " In:  1\n",
      "Out:  1\n",
      " In:  1\n",
      "Out:  1\n",
      " In:  1\n",
      "Out:  1\n",
      " In:  1\n",
      "Out:  1\n",
      " In:  1\n",
      "Out:  1\n",
      " In:  1\n",
      "Out:  1\n",
      " In:  1\n",
      "Out:  1\n",
      " In:  1\n",
      "Out:  1\n",
      " In:  1\n",
      "Out:  1\n"
     ]
    }
   ],
   "source": [
    "for _e in g.edges():\n",
    "    n_ei = len(_e.edge_in)\n",
    "    n_eo = len(_e.edge_out)\n",
    "    print(f\" In:  {n_ei}\")\n",
    "    print(f\"Out:  {n_eo}\")"
   ]
  },
  {
   "cell_type": "code",
   "execution_count": 18,
   "id": "22139ad9",
   "metadata": {},
   "outputs": [
    {
     "name": "stdout",
     "output_type": "stream",
     "text": [
      "oryx_6B6458F7-0B89-4EC6-84DC-F398B6DF3716\n",
      "oryx_03CF673F-AD3F-4887-9FFD-28F79BD1A26F\n",
      "oryx_1EB712B5-45FD-4DD8-9144-DAA850E72B5E\n",
      "oryx_78203452-E699-4D81-AFFD-79856475A466\n",
      "oryx_32C97BEC-9870-4C0A-9662-A593062DA774\n",
      "oryx_43209FCE-CB0A-4FF2-B762-E8DB2AA20CF9\n",
      "oryx_8482024B-4B0C-4367-A18D-B533098B495D\n",
      "oryx_D201E784-9443-4A2F-8E2D-84B32EE28A70\n",
      "oryx_7DCB1D3B-AA45-4462-8853-6C467465616D\n",
      "oryx_DCB4FE08-DC82-47FD-B882-E03A1534EF9E\n",
      "oryx_3E06A1E5-A878-441E-9EB2-03E1DDF2BA17\n",
      "oryx_7FB0194F-A9BE-4C51-94DB-BD87602B7893\n",
      "oryx_542A2DA0-EA36-40A6-AE9B-94E84F668475\n",
      "oryx_7E609FBF-9B70-42A1-B1E6-C063B339838C\n",
      "oryx_6894C16E-1267-478F-B621-B6CA322390F9\n",
      "oryx_32CEDB01-591C-4ADC-A091-B7910E1003B0\n",
      "oryx_8FBC9345-AC59-4C41-BF2C-035AB8CEAA0E\n",
      "oryx_95954A15-61F9-45BD-A087-70237B2E96A5\n",
      "oryx_33EE9DCA-9CAC-4FD4-ACA0-FCAF446EEE2E\n",
      "oryx_1E6FE7D7-F32B-4C34-B6C1-028543D77F7F\n",
      "oryx_EDD58CFF-587B-442A-8BAB-0FE54428B58F\n",
      "oryx_B36F95A2-2B06-44C1-8039-A560E8674264\n",
      "oryx_914BEB50-3204-4E53-8CF2-5FD1E8284E8D\n",
      "oryx_97A6E627-9336-462E-A97A-FFA089A1E8C6\n"
     ]
    }
   ],
   "source": [
    "for _e in g.edges():\n",
    "    if _e.uid == n_in or _e.uid == n_out:\n",
    "        print(\"MATCH\")\n",
    "    else:\n",
    "        print(_e.uid)"
   ]
  },
  {
   "cell_type": "markdown",
   "id": "c7348fa0",
   "metadata": {},
   "source": [
    "Based on the above test, it appears the incoming and outgoing signify nodes for each edge, as we might expect. One final test for this is to see if target is the same as outgoing or incoming."
   ]
  },
  {
   "cell_type": "code",
   "execution_count": 19,
   "id": "c2d55659",
   "metadata": {},
   "outputs": [],
   "source": [
    "verbose = False\n",
    "for _e in g.edges():\n",
    "    if _e.edge_out[0]['resourceId'] == _e.target:\n",
    "        if verbose:\n",
    "            print(\"MATCH\")\n",
    "    else:\n",
    "        print(\"UNMATCHED\")"
   ]
  },
  {
   "cell_type": "markdown",
   "id": "c2feff98",
   "metadata": {},
   "source": [
    "Alright, now it seems clear that `target` is redundant and seems to generally match with the single outgoing node. This assumption should be part of a unit test. \n",
    "\n",
    "Now, I think I can simplify my transformation classes and get them into a NetworkX graph to keep things simple and powerful."
   ]
  },
  {
   "cell_type": "code",
   "execution_count": 84,
   "id": "cd62ad0b",
   "metadata": {},
   "outputs": [],
   "source": [
    "import json\n",
    "\n",
    "\n",
    "class Node():\n",
    "    def __init__(self, node):\n",
    "        self.uid = node['resourceId']\n",
    "        self.label = node['stencil']['id']\n",
    "        \n",
    "        self.property = node['properties']\n",
    "        self.propertyType = node['propertyTypes']\n",
    "\n",
    "        self.outgoing = node['outgoing']\n",
    "        self.incoming = node['incoming']\n",
    "        \n",
    "        _bb = node['bounds']\n",
    "        self.bbox = _bb\n",
    "        self.pos = ((_bb['lowerRight']['x']+_bb['upperLeft']['x'])/2,\n",
    "                    (_bb['lowerRight']['y']+_bb['upperLeft']['y'])/2)\n",
    "        self.dock = node['dockers']\n",
    "    \n",
    "    def expand(self, factor):\n",
    "        self.pos = (factor*self.pos[0], \n",
    "                    factor*self.pos[1])\n",
    "        \n",
    "class Edge():\n",
    "    def __init__(self, edge):\n",
    "        self.uid = edge['resourceId']\n",
    "        self.type = edge['stencil']['id']\n",
    "        \n",
    "        self.property = edge['properties']\n",
    "        self.propertyType = edge['propertyTypes']\n",
    "        \n",
    "        if len(edge['outgoing']) == 1:\n",
    "            self.outgoing = edge['outgoing'][0]['resourceId']\n",
    "        else:\n",
    "            print(\"ERROR: Incorrect outgoing count on edge.\")\n",
    "            exit(2)\n",
    "        if len(edge['incoming']) == 1:\n",
    "            self.incoming = edge['incoming'][0]['resourceId']\n",
    "        else:\n",
    "            print(\"ERROR: Incorrect incoming count on edge.\")\n",
    "            exit(2)\n",
    "            \n",
    "        self.target = edge['target']['resourceId']\n",
    "        \n",
    "        self.bbox = edge['bounds']\n",
    "        self.dock = edge['dockers']\n",
    "        \n",
    "        \n",
    "class Graph():\n",
    "    \n",
    "    def __init__(self,eda_fname = 'model'):\n",
    "        self.load_eda(eda_fname = eda_fname)\n",
    "\n",
    "    def node(self,uid):\n",
    "        return self.__n[uid]\n",
    "\n",
    "    def edge(self,uid):\n",
    "        return self.__e[uid]\n",
    "    \n",
    "    def nodes(self):\n",
    "        return self.__n\n",
    "    \n",
    "    def edges(self):\n",
    "        return self.__e\n",
    "\n",
    "    def load_lists(self, nodes, edges):\n",
    "        self.__n = {}\n",
    "        for _n in nodes:\n",
    "            _ntmp = Node(_n)\n",
    "            self.__n[_ntmp.uid] = _ntmp\n",
    "        self.__e = {}\n",
    "        for _e in edges:\n",
    "            _etmp = Edge(_e)\n",
    "            self.__e[_etmp.uid] = _etmp\n",
    "            \n",
    "    def load_eda(self, eda_fname = 'model'):\n",
    "        with open(eda_fname, 'r') as f:\n",
    "            j = json.load(f)\n",
    "\n",
    "        nodes = []\n",
    "        edges = []\n",
    "        for _j in j['childShapes']:\n",
    "            if 'target' in _j.keys():\n",
    "                edges.append(_j)\n",
    "            else:\n",
    "                nodes.append(_j)\n",
    "\n",
    "        self.load_lists(nodes, edges)\n",
    "        \n",
    "    def expand(self, factor):\n",
    "        for _n in self.__n.values():\n",
    "            _n.expand(factor)\n",
    "\n",
    "g = Graph('model')"
   ]
  },
  {
   "cell_type": "code",
   "execution_count": 85,
   "id": "b27d597c",
   "metadata": {},
   "outputs": [
    {
     "data": {
      "text/plain": [
       "dict_keys(['oryx_EC08DE2B-AB9A-4D0D-B9C6-4C1325D08C76', 'oryx_7D22B9C7-F193-40BA-B31A-6D9F1A423D93', 'oryx_60D2D13D-1474-461B-92DD-9507C12A963F', 'oryx_1F9CF2D0-AEB6-4BD2-9433-DBBD33359151', 'oryx_6ADA59C6-4F05-4BC8-B301-36C3979CC1E2', 'oryx_F633FA6C-DEE8-4EA5-BA97-7152FFFDC3D6', 'oryx_9619A14B-F440-4300-B2C3-A025EC483596', 'oryx_574BA78F-DD20-42F2-8366-28E24B49D8B4', 'oryx_72C196D1-9304-4AE1-8135-B7E8E00800C2', 'oryx_4B442D66-9E93-49CD-AC52-D53970B85213', 'oryx_4D30FC52-5049-4559-8D6C-882D94A1AED9', 'oryx_EDFC434D-224D-4307-85BD-7C62C4ED00E8', 'oryx_65659885-3692-43A7-841C-38769DC89397', 'oryx_EAC972AF-784F-4183-A6F6-1B7D0FD111FE', 'oryx_1991F846-7BFD-422A-A43C-0870A7F9CC41', 'oryx_A3E5B0B7-5A56-47C0-9159-5EE8026A7BB9', 'oryx_607A73B2-3FB4-41CD-8003-4B386C502EA1', 'oryx_86BFA1BB-E9D5-438A-A5CF-E2A61B7603EB', 'oryx_9EBFFFDE-03F3-4C2E-953C-082A05273C98', 'oryx_5A200187-C4B8-4090-9AF7-89FD6DD92EDF', 'oryx_5CA98ED5-26AC-44DD-A6A2-6BFC670A9453', 'oryx_8E81820C-3CD0-499F-8306-8450F5FFECBF', 'oryx_E7D8D852-3449-47C7-B271-914489BE1F48'])"
      ]
     },
     "execution_count": 85,
     "metadata": {},
     "output_type": "execute_result"
    }
   ],
   "source": [
    "g.nodes().keys()"
   ]
  },
  {
   "cell_type": "code",
   "execution_count": 86,
   "id": "a9bf70a6",
   "metadata": {},
   "outputs": [],
   "source": []
  },
  {
   "cell_type": "code",
   "execution_count": 96,
   "id": "7114a574",
   "metadata": {},
   "outputs": [
    {
     "data": {
      "text/plain": [
       "<networkx.classes.graph.Graph at 0x7f34f97482e0>"
      ]
     },
     "execution_count": 96,
     "metadata": {},
     "output_type": "execute_result"
    }
   ],
   "source": [
    "import networkx as nx\n",
    "\n",
    "g.expand(10)\n",
    "\n",
    "G = nx.Graph()\n",
    "\n",
    "\n",
    "label = {'node': {},\n",
    "         'edge': {}}\n",
    "position = {}\n",
    "for _n in g.nodes():\n",
    "    _uid = g.node(_n).uid    \n",
    "    G.add_node(_uid)\n",
    "    label['node'][_uid] = g.node(_n).label\n",
    "    position[_uid] = g.node(_n).pos\n",
    "    \n",
    "for _e in g.edges():\n",
    "    _in = g.edge(_e).incoming\n",
    "    _out = g.edge(_e).outgoing\n",
    "    G.add_edge(_in,_out)\n",
    "    label['edge'][(_in,_out)] = g.edge(_e).type\n",
    "\n",
    "G"
   ]
  },
  {
   "cell_type": "code",
   "execution_count": 99,
   "id": "e21edb4c",
   "metadata": {},
   "outputs": [
    {
     "data": {
      "image/png": "[encoded data removed]",
      "text/plain": [
       "<Figure size 432x288 with 1 Axes>"
      ]
     },
     "metadata": {},
     "output_type": "display_data"
    }
   ],
   "source": [
    "import matplotlib.pyplot as plt\n",
    "\n",
    "plt.figure()\n",
    "nx.draw(G, pos=position,labels=label['node'],node_size=100)\n",
    "nx.draw_networkx_edge_labels(G, position, edge_labels=label['edge'])\n",
    "plt.axis('off')\n",
    "plt.show()"
   ]
  },
  {
   "cell_type": "code",
   "execution_count": 98,
   "id": "51228622",
   "metadata": {},
   "outputs": [
    {
     "data": {
      "text/plain": [
       "{'oryx_EC08DE2B-AB9A-4D0D-B9C6-4C1325D08C76': (95250000.0, 43900152.599999994),\n",
       " 'oryx_7D22B9C7-F193-40BA-B31A-6D9F1A423D93': (76250000.0, 31900152.6),\n",
       " 'oryx_60D2D13D-1474-461B-92DD-9507C12A963F': (76250000.0, 43900152.599999994),\n",
       " 'oryx_1F9CF2D0-AEB6-4BD2-9433-DBBD33359151': (76250000.0, 55900152.60000001),\n",
       " 'oryx_6ADA59C6-4F05-4BC8-B301-36C3979CC1E2': (125150329.4, 53559807.10087226),\n",
       " 'oryx_F633FA6C-DEE8-4EA5-BA97-7152FFFDC3D6': (27023545.253045633,\n",
       "  43900152.599999994),\n",
       " 'oryx_9619A14B-F440-4300-B2C3-A025EC483596': (14175658.045000002,\n",
       "  12675658.235000001),\n",
       " 'oryx_574BA78F-DD20-42F2-8366-28E24B49D8B4': (33873023.2595,\n",
       "  12675658.235000001),\n",
       " 'oryx_72C196D1-9304-4AE1-8135-B7E8E00800C2': (7900152.6000000015,\n",
       "  43900152.599999994),\n",
       " 'oryx_4B442D66-9E93-49CD-AC52-D53970B85213': (21000000.0, 55001280.85000001),\n",
       " 'oryx_4D30FC52-5049-4559-8D6C-882D94A1AED9': (43273545.25304563,\n",
       "  43900152.599999994),\n",
       " 'oryx_EDFC434D-224D-4307-85BD-7C62C4ED00E8': (57673697.85304564, 31900152.6),\n",
       " 'oryx_65659885-3692-43A7-841C-38769DC89397': (57673697.85304564,\n",
       "  43900152.599999994),\n",
       " 'oryx_EAC972AF-784F-4183-A6F6-1B7D0FD111FE': (57673697.85304564,\n",
       "  55900152.60000001),\n",
       " 'oryx_1991F846-7BFD-422A-A43C-0870A7F9CC41': (104968266.5, 53709807.10087226),\n",
       " 'oryx_A3E5B0B7-5A56-47C0-9159-5EE8026A7BB9': (144116347.65,\n",
       "  53559807.10087226),\n",
       " 'oryx_607A73B2-3FB4-41CD-8003-4B386C502EA1': (120000000.0, 38501280.85),\n",
       " 'oryx_86BFA1BB-E9D5-438A-A5CF-E2A61B7603EB': (141405665.00000003,\n",
       "  38501280.85),\n",
       " 'oryx_9EBFFFDE-03F3-4C2E-953C-082A05273C98': (141405665.00000003,\n",
       "  36501280.85),\n",
       " 'oryx_5A200187-C4B8-4090-9AF7-89FD6DD92EDF': (141405665.00000003,\n",
       "  40501280.85),\n",
       " 'oryx_5CA98ED5-26AC-44DD-A6A2-6BFC670A9453': (120000000.0, 68200000.0),\n",
       " 'oryx_8E81820C-3CD0-499F-8306-8450F5FFECBF': (141405665.00000003, 67200000.0),\n",
       " 'oryx_E7D8D852-3449-47C7-B271-914489BE1F48': (141405665.00000003, 69200000.0)}"
      ]
     },
     "execution_count": 98,
     "metadata": {},
     "output_type": "execute_result"
    }
   ],
   "source": [
    "position"
   ]
  },
  {
   "cell_type": "code",
   "execution_count": null,
   "id": "e38da378",
   "metadata": {},
   "outputs": [],
   "source": []
  }
 ],
 "metadata": {
  "kernelspec": {
   "display_name": "Python 3 (ipykernel)",
   "language": "python",
   "name": "python3"
  },
  "language_info": {
   "codemirror_mode": {
    "name": "ipython",
    "version": 3
   },
   "file_extension": ".py",
   "mimetype": "text/x-python",
   "name": "python",
   "nbconvert_exporter": "python",
   "pygments_lexer": "ipython3",
   "version": "3.9.12"
  }
 },
 "nbformat": 4,
 "nbformat_minor": 5
}
