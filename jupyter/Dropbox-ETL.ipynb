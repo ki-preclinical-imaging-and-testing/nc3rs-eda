{
 "cells": [
  {
   "cell_type": "code",
   "execution_count": 1,
   "id": "877c720f",
   "metadata": {},
   "outputs": [],
   "source": [
    "import nc3rsEDA as ned\n",
    "import os\n",
    "import glob\n",
    "from pathlib import Path\n",
    "\n",
    "def load_dropbox(folder = \"sample_eda\"):\n",
    "    for _if in glob.glob(f\"{os.path.abspath(folder)}/*.eda\"):\n",
    "        print(f\"ETL: Extracting and transforming {_if}...\")\n",
    "        _g = ned.Graph(_if)\n",
    "        print(f\"ETL: Loading {_if}...\")\n",
    "        _neo4ned = ned.Neo4jWriter(_g)\n",
    "        _neo4ned.write()\n",
    "        print(f\"ETL: Updated.\")\n",
    "        print()"
   ]
  },
  {
   "cell_type": "code",
   "execution_count": 2,
   "id": "2e962422",
   "metadata": {},
   "outputs": [
    {
     "name": "stdout",
     "output_type": "stream",
     "text": [
      "\u001b[0m\u001b[01;32m'Template 1 - Two-group comparison _ Animal as experimental unit _ Complete randomisation.eda'\u001b[0m\u001b[K*\r\n",
      "\u001b[01;32m'Template 2 - Crossover _ Blocking factor _ Order of treatments _ Test period.eda'\u001b[0m\u001b[K*\r\n",
      "\u001b[01;32m'Template 3 - Multiple animal characteristics _ No randomisation _ Data transformation _ Multiple time points _ Multiple outcome measures _ Sex and genotype as factors of interest _ Two-way ANOVA with interaction.eda'\u001b[0m\u001b[K*\r\n",
      "\u001b[01;32m'Template 4 - Randomisation with sex as a factor of interest _ Nuisance variable _ Nested variable _ Two-way ANOVA with interaction _ Data averaged per animal _ Multiple animal characteristics.eda'\u001b[0m\u001b[K*\r\n",
      "\u001b[01;32m'Template 5 - Three-group comparison _ Blocking factor _ Block randomisation _ Two-way ANOVA without interaction _ Data transformation.eda'\u001b[0m\u001b[K*\r\n"
     ]
    }
   ],
   "source": [
    "!ls sample_eda/"
   ]
  },
  {
   "cell_type": "code",
   "execution_count": 3,
   "id": "94848cee",
   "metadata": {},
   "outputs": [
    {
     "name": "stdout",
     "output_type": "stream",
     "text": [
      "ETL: Extracting and transforming /mnt/c/Users/patch/Documents/nc3rsEDA/sample_eda/Template 1 - Two-group comparison _ Animal as experimental unit _ Complete randomisation.eda...\n",
      "ETL: Loading /mnt/c/Users/patch/Documents/nc3rsEDA/sample_eda/Template 1 - Two-group comparison _ Animal as experimental unit _ Complete randomisation.eda...\n",
      "labels-added               15\n",
      "relationships-created      14\n",
      "nodes-created              15\n",
      "properties-set             15\n",
      "ETL: Updated.\n",
      "\n",
      "ETL: Extracting and transforming /mnt/c/Users/patch/Documents/nc3rsEDA/sample_eda/Template 2 - Crossover _ Blocking factor _ Order of treatments _ Test period.eda...\n",
      "ETL: Loading /mnt/c/Users/patch/Documents/nc3rsEDA/sample_eda/Template 2 - Crossover _ Blocking factor _ Order of treatments _ Test period.eda...\n",
      "labels-added               28\n",
      "relationships-created      27\n",
      "nodes-created              28\n",
      "properties-set             28\n",
      "ETL: Updated.\n",
      "\n",
      "ETL: Extracting and transforming /mnt/c/Users/patch/Documents/nc3rsEDA/sample_eda/Template 3 - Multiple animal characteristics _ No randomisation _ Data transformation _ Multiple time points _ Multiple outcome measures _ Sex and genotype as factors of interest _ Two-way ANOVA with interaction.eda...\n",
      "ETL: Loading /mnt/c/Users/patch/Documents/nc3rsEDA/sample_eda/Template 3 - Multiple animal characteristics _ No randomisation _ Data transformation _ Multiple time points _ Multiple outcome measures _ Sex and genotype as factors of interest _ Two-way ANOVA with interaction.eda...\n",
      "labels-added               32\n",
      "relationships-created      29\n",
      "nodes-created              32\n",
      "properties-set             32\n",
      "ETL: Updated.\n",
      "\n",
      "ETL: Extracting and transforming /mnt/c/Users/patch/Documents/nc3rsEDA/sample_eda/Template 4 - Randomisation with sex as a factor of interest _ Nuisance variable _ Nested variable _ Two-way ANOVA with interaction _ Data averaged per animal _ Multiple animal characteristics.eda...\n",
      "ETL: Loading /mnt/c/Users/patch/Documents/nc3rsEDA/sample_eda/Template 4 - Randomisation with sex as a factor of interest _ Nuisance variable _ Nested variable _ Two-way ANOVA with interaction _ Data averaged per animal _ Multiple animal characteristics.eda...\n",
      "labels-added               24\n",
      "relationships-created      23\n",
      "nodes-created              24\n",
      "properties-set             24\n",
      "ETL: Updated.\n",
      "\n",
      "ETL: Extracting and transforming /mnt/c/Users/patch/Documents/nc3rsEDA/sample_eda/Template 5 - Three-group comparison _ Blocking factor _ Block randomisation _ Two-way ANOVA without interaction _ Data transformation.eda...\n",
      "ETL: Loading /mnt/c/Users/patch/Documents/nc3rsEDA/sample_eda/Template 5 - Three-group comparison _ Blocking factor _ Block randomisation _ Two-way ANOVA without interaction _ Data transformation.eda...\n",
      "labels-added               23\n",
      "relationships-created      24\n",
      "nodes-created              23\n",
      "properties-set             23\n",
      "ETL: Updated.\n",
      "\n"
     ]
    }
   ],
   "source": [
    "load_dropbox()"
   ]
  },
  {
   "cell_type": "code",
   "execution_count": 4,
   "id": "29db40bb",
   "metadata": {},
   "outputs": [
    {
     "name": "stdout",
     "output_type": "stream",
     "text": [
      "\u001b[0m\u001b[01;32m'Template 1 - Two-group comparison _ Animal as experimental unit _ Complete randomisation.eda'\u001b[0m\u001b[K*\r\n",
      "\u001b[01;32m'Template 2 - Crossover _ Blocking factor _ Order of treatments _ Test period.eda'\u001b[0m\u001b[K*\r\n",
      "\u001b[01;32m'Template 3 - Multiple animal characteristics _ No randomisation _ Data transformation _ Multiple time points _ Multiple outcome measures _ Sex and genotype as factors of interest _ Two-way ANOVA with interaction.eda'\u001b[0m\u001b[K*\r\n",
      "\u001b[01;32m'Template 4 - Randomisation with sex as a factor of interest _ Nuisance variable _ Nested variable _ Two-way ANOVA with interaction _ Data averaged per animal _ Multiple animal characteristics.eda'\u001b[0m\u001b[K*\r\n",
      "\u001b[01;32m'Template 5 - Three-group comparison _ Blocking factor _ Block randomisation _ Two-way ANOVA without interaction _ Data transformation.eda'\u001b[0m\u001b[K*\r\n",
      " \u001b[34;42mTemplate_1_-_Two-group_comparison__Animal_as_experimental_unit__Complete_randomisation\u001b[0m\u001b[K/\r\n",
      " \u001b[34;42mTemplate_2_-_Crossover__Blocking_factor__Order_of_treatments__Test_period\u001b[0m/\r\n",
      " \u001b[34;42mTemplate_3_-_Multiple_animal_characteristics__No_randomisation__Data_transformation__Multiple_time_points__Multiple_outcome_measures__Sex_and_genotype_as_factors_of_interest__Two-way_ANOVA_with_interaction\u001b[0m\u001b[K/\r\n",
      " \u001b[34;42mTemplate_4_-_Randomisation_with_sex_as_a_factor_of_interest__Nuisance_variable__Nested_variable__Two-way_ANOVA_with_interaction__Data_averaged_per_animal__Multiple_animal_characteristics\u001b[0m\u001b[K/\r\n",
      " \u001b[34;42mTemplate_5_-_Three-group_comparison__Blocking_factor__Block_randomisation__Two-way_ANOVA_without_interaction__Data_transformation\u001b[0m\u001b[K/\r\n"
     ]
    }
   ],
   "source": [
    "!ls sample_eda/"
   ]
  },
  {
   "cell_type": "markdown",
   "id": "041e7e53",
   "metadata": {},
   "source": [
    "Now that's working, so I added it to `ned`. First, I'll clear the last round of files and entries out..."
   ]
  },
  {
   "cell_type": "code",
   "execution_count": 5,
   "id": "0a9503fc",
   "metadata": {},
   "outputs": [],
   "source": [
    "!rm -r sample_eda/Template_*"
   ]
  },
  {
   "cell_type": "code",
   "execution_count": 6,
   "id": "2e5b6446",
   "metadata": {},
   "outputs": [
    {
     "name": "stdout",
     "output_type": "stream",
     "text": [
      "nodes-deleted             122\n",
      "relationships-deleted     117\n"
     ]
    }
   ],
   "source": [
    "ned.Neo4jWriter().detach_delete_all()"
   ]
  },
  {
   "cell_type": "markdown",
   "id": "18ee0488",
   "metadata": {},
   "source": [
    "and show how the new functions work..."
   ]
  },
  {
   "cell_type": "code",
   "execution_count": 7,
   "id": "ab2a7ed8",
   "metadata": {},
   "outputs": [
    {
     "name": "stdout",
     "output_type": "stream",
     "text": [
      "ETL: Extracting and transforming /mnt/c/Users/patch/Documents/nc3rsEDA/sample_eda/Template 1 - Two-group comparison _ Animal as experimental unit _ Complete randomisation.eda...\n",
      "ETL: Loading /mnt/c/Users/patch/Documents/nc3rsEDA/sample_eda/Template 1 - Two-group comparison _ Animal as experimental unit _ Complete randomisation.eda...\n",
      "labels-added               15\n",
      "relationships-created      14\n",
      "nodes-created              15\n",
      "properties-set             15\n",
      "ETL: Done with /mnt/c/Users/patch/Documents/nc3rsEDA/sample_eda/Template 1 - Two-group comparison _ Animal as experimental unit _ Complete randomisation.eda.\n",
      "\n",
      "ETL: Extracting and transforming /mnt/c/Users/patch/Documents/nc3rsEDA/sample_eda/Template 2 - Crossover _ Blocking factor _ Order of treatments _ Test period.eda...\n",
      "ETL: Loading /mnt/c/Users/patch/Documents/nc3rsEDA/sample_eda/Template 2 - Crossover _ Blocking factor _ Order of treatments _ Test period.eda...\n",
      "labels-added               28\n",
      "relationships-created      27\n",
      "nodes-created              28\n",
      "properties-set             28\n",
      "ETL: Done with /mnt/c/Users/patch/Documents/nc3rsEDA/sample_eda/Template 2 - Crossover _ Blocking factor _ Order of treatments _ Test period.eda.\n",
      "\n",
      "ETL: Extracting and transforming /mnt/c/Users/patch/Documents/nc3rsEDA/sample_eda/Template 3 - Multiple animal characteristics _ No randomisation _ Data transformation _ Multiple time points _ Multiple outcome measures _ Sex and genotype as factors of interest _ Two-way ANOVA with interaction.eda...\n",
      "ETL: Loading /mnt/c/Users/patch/Documents/nc3rsEDA/sample_eda/Template 3 - Multiple animal characteristics _ No randomisation _ Data transformation _ Multiple time points _ Multiple outcome measures _ Sex and genotype as factors of interest _ Two-way ANOVA with interaction.eda...\n",
      "labels-added               32\n",
      "relationships-created      29\n",
      "nodes-created              32\n",
      "properties-set             32\n",
      "ETL: Done with /mnt/c/Users/patch/Documents/nc3rsEDA/sample_eda/Template 3 - Multiple animal characteristics _ No randomisation _ Data transformation _ Multiple time points _ Multiple outcome measures _ Sex and genotype as factors of interest _ Two-way ANOVA with interaction.eda.\n",
      "\n",
      "ETL: Extracting and transforming /mnt/c/Users/patch/Documents/nc3rsEDA/sample_eda/Template 4 - Randomisation with sex as a factor of interest _ Nuisance variable _ Nested variable _ Two-way ANOVA with interaction _ Data averaged per animal _ Multiple animal characteristics.eda...\n",
      "ETL: Loading /mnt/c/Users/patch/Documents/nc3rsEDA/sample_eda/Template 4 - Randomisation with sex as a factor of interest _ Nuisance variable _ Nested variable _ Two-way ANOVA with interaction _ Data averaged per animal _ Multiple animal characteristics.eda...\n",
      "labels-added               24\n",
      "relationships-created      23\n",
      "nodes-created              24\n",
      "properties-set             24\n",
      "ETL: Done with /mnt/c/Users/patch/Documents/nc3rsEDA/sample_eda/Template 4 - Randomisation with sex as a factor of interest _ Nuisance variable _ Nested variable _ Two-way ANOVA with interaction _ Data averaged per animal _ Multiple animal characteristics.eda.\n",
      "\n",
      "ETL: Extracting and transforming /mnt/c/Users/patch/Documents/nc3rsEDA/sample_eda/Template 5 - Three-group comparison _ Blocking factor _ Block randomisation _ Two-way ANOVA without interaction _ Data transformation.eda...\n",
      "ETL: Loading /mnt/c/Users/patch/Documents/nc3rsEDA/sample_eda/Template 5 - Three-group comparison _ Blocking factor _ Block randomisation _ Two-way ANOVA without interaction _ Data transformation.eda...\n",
      "labels-added               23\n",
      "relationships-created      24\n",
      "nodes-created              23\n",
      "properties-set             23\n",
      "ETL: Done with /mnt/c/Users/patch/Documents/nc3rsEDA/sample_eda/Template 5 - Three-group comparison _ Blocking factor _ Block randomisation _ Two-way ANOVA without interaction _ Data transformation.eda.\n",
      "\n"
     ]
    }
   ],
   "source": [
    "ned.load_dropbox(folder='sample_eda/')"
   ]
  },
  {
   "cell_type": "markdown",
   "id": "85d03d98",
   "metadata": {},
   "source": [
    "With this basic functionality in place, it would be great now to design a few features to this so that it plays nicely with the knowledge graph. \n",
    "\n",
    "1. Reference node: \"Study\"? What to call it and what information to distinguish, e.g. UID, name, timestamps, etc\n",
    "2. Check if it is already in the knowledge graph. Should it just merge or can I check ahead?\n",
    "3. Other basic READ queries on the database that are relevant to EDA, e.g. return an EDA file to upload into the assistant"
   ]
  }
 ],
 "metadata": {
  "kernelspec": {
   "display_name": "Python 3 (ipykernel)",
   "language": "python",
   "name": "python3"
  },
  "language_info": {
   "codemirror_mode": {
    "name": "ipython",
    "version": 3
   },
   "file_extension": ".py",
   "mimetype": "text/x-python",
   "name": "python",
   "nbconvert_exporter": "python",
   "pygments_lexer": "ipython3",
   "version": "3.9.12"
  }
 },
 "nbformat": 4,
 "nbformat_minor": 5
}
